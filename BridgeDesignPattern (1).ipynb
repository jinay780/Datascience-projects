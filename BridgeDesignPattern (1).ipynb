{
 "cells": [
  {
   "cell_type": "code",
   "execution_count": 1,
   "metadata": {},
   "outputs": [
    {
     "name": "stdout",
     "output_type": "stream",
     "text": [
      "The object is saved in file\n",
      "---------------------\n",
      "The object is saved in DataBase\n"
     ]
    }
   ],
   "source": [
    "from abc import ABC, abstractmethod\n",
    "\n",
    "class Abstraction:\n",
    "\n",
    "\tdef __init__(self, implementation):\n",
    "\t\tself.implementation = implementation\n",
    "\n",
    "\tdef operation(self):\n",
    "\t\treturn self.implementation.save_object()\n",
    "\n",
    "class SaveObject(ABC):\n",
    "\n",
    "\t@abstractmethod\n",
    "\tdef save_object(self):\n",
    "\t\tpass\n",
    "\n",
    "class SaveObjectInFile(SaveObject):\n",
    "\n",
    "\tdef save_object(self):\n",
    "\t\treturn \"The object is saved in file\"\n",
    "\n",
    "class SaveObjectInDB(SaveObject):\n",
    "\n",
    "\tdef save_object(self):\n",
    "\t\treturn \"The object is saved in DataBase\"\n",
    "\n",
    "\n",
    "saveobjectinfile = SaveObjectInFile()\n",
    "abstraction = Abstraction(saveobjectinfile)\n",
    "print(abstraction.operation())\n",
    "print(\"---------------------\")\n",
    "saveobjectinobject = SaveObjectInDB()\n",
    "abstraction = Abstraction(saveobjectinobject)\n",
    "print(abstraction.operation())"
   ]
  },
  {
   "cell_type": "code",
   "execution_count": null,
   "metadata": {},
   "outputs": [],
   "source": []
  }
 ],
 "metadata": {
  "kernelspec": {
   "display_name": "Python 3",
   "language": "python",
   "name": "python3"
  },
  "language_info": {
   "codemirror_mode": {
    "name": "ipython",
    "version": 3
   },
   "file_extension": ".py",
   "mimetype": "text/x-python",
   "name": "python",
   "nbconvert_exporter": "python",
   "pygments_lexer": "ipython3",
   "version": "3.8.5"
  }
 },
 "nbformat": 4,
 "nbformat_minor": 4
}
