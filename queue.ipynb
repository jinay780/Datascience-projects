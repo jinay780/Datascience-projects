{
  "nbformat": 4,
  "nbformat_minor": 0,
  "metadata": {
    "colab": {
      "name": "Untitled3.ipynb",
      "provenance": [],
      "authorship_tag": "ABX9TyMWweOrr83CNsPNOQpZBlfy",
      "include_colab_link": true
    },
    "kernelspec": {
      "name": "python3",
      "display_name": "Python 3"
    }
  },
  "cells": [
    {
      "cell_type": "markdown",
      "metadata": {
        "id": "view-in-github",
        "colab_type": "text"
      },
      "source": [
        "<a href=\"https://colab.research.google.com/github/jinay780/python/blob/master/queue.ipynb\" target=\"_parent\"><img src=\"https://colab.research.google.com/assets/colab-badge.svg\" alt=\"Open In Colab\"/></a>"
      ]
    },
    {
      "cell_type": "code",
      "metadata": {
        "id": "P9xBY4NpfWM0",
        "colab_type": "code",
        "colab": {
          "base_uri": "https://localhost:8080/",
          "height": 35
        },
        "outputId": "4dd2c3d4-e4dc-4972-a84f-564175901d0f"
      },
      "source": [
        "import threading\n",
        "lock=threading.Lock()\n",
        "x=0\n",
        "COUNT=100000\n",
        "\n",
        "\n",
        "def adding_2():\n",
        "  global x\n",
        "  with lock:\n",
        "    for i in range(COUNT):\n",
        "      x +=2\n",
        "\n",
        "def adding_3():\n",
        "  global x\n",
        "  with lock:\n",
        "    for i in range(COUNT):\n",
        "      x +=3\n",
        "\n",
        "def subtracting_4():\n",
        "  global x\n",
        "  with lock:\n",
        "    for i in range(COUNT):\n",
        "      x -=4 \n",
        "\n",
        "def subtracting_1():\n",
        "  global x\n",
        "  with lock:\n",
        "    for i in range(COUNT):\n",
        "      x -=1\n",
        "\n",
        "t=threading.Thread(target=adding_2,)\n",
        "t2=threading.Thread(target=subtracting_4,)\n",
        "t3=threading.Thread(target=adding_3,)\n",
        "t4=threading.Thread(target=subtracting_1,)\n",
        "\n",
        "t.start()\n",
        "t2.start()\n",
        "t3.start()\n",
        "t4.start()\n",
        "\n",
        "t.join()\n",
        "t2.join()\n",
        "t3.join()\n",
        "t4.join()\n",
        "    \n",
        "\n",
        "print(x)\n",
        "\n",
        "def subtracting_1():\n",
        "  global x\n",
        "  lock.acquire()\n",
        "  for i in range(COUNT):\n",
        "    x -=1\n",
        "    lock.release()"
      ],
      "execution_count": 26,
      "outputs": [
        {
          "output_type": "stream",
          "text": [
            "0\n"
          ],
          "name": "stdout"
        }
      ]
    },
    {
      "cell_type": "code",
      "metadata": {
        "id": "JAAR-HKKwoap",
        "colab_type": "code",
        "colab": {}
      },
      "source": [
        "import queue\n",
        "import threading\n",
        "import time\n",
        "def putting_thread(q):\n",
        "  while True:\n",
        "    print('start the thread')\n",
        "    time.sleep(3)\n",
        "    q.put(5)\n",
        "    print('put something')\n",
        "\n",
        "\n",
        "q=queue.Queue()\n",
        "t=threading.Thread(target=putting_thread,args=(q,),daemon=True)\n",
        "q.put(5)\n",
        "print(q.get())\n",
        "print('I sleep for 10 hours')\n",
        "print(q.get())\n",
        "print('finished')"
      ],
      "execution_count": 0,
      "outputs": []
    }
  ]
}